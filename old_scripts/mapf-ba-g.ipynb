{
 "cells": [
  {
   "cell_type": "code",
   "execution_count": 1,
   "id": "6cac6518",
   "metadata": {},
   "outputs": [],
   "source": [
    "import clingo\n",
    "from json import dumps\n",
    "import re"
   ]
  },
  {
   "cell_type": "code",
   "execution_count": 2,
   "id": "16d8b24e",
   "metadata": {},
   "outputs": [],
   "source": [
    "def combine(encoding_path, benchmark_path, destination_path):\n",
    "    \n",
    "    combined_path = destination_path\n",
    "    \n",
    "    encoding_file = open(encoding_path, \"r\")\n",
    "    encoding = encoding_file.read()\n",
    "    encoding_file.close()\n",
    "    \n",
    "    benchmark_file = open(benchmark_path, \"r\")\n",
    "    benchmark = benchmark_file.read()\n",
    "    benchmark_file.close()\n",
    "    \n",
    "    combined_file = open(combined_path, \"w\")\n",
    "    combined = combined_file.write(benchmark + encoding)\n",
    "    combined_file.close()"
   ]
  },
  {
   "cell_type": "code",
   "execution_count": 3,
   "id": "dbec036c",
   "metadata": {},
   "outputs": [],
   "source": [
    "def save(solution, destination_path):\n",
    "    file = open(destination_path, \"w\")\n",
    "    file.write(solution)\n",
    "    file.close()"
   ]
  },
  {
   "cell_type": "code",
   "execution_count": 4,
   "id": "62b11c8e",
   "metadata": {},
   "outputs": [],
   "source": [
    "def save_plans(plans, destination_path):\n",
    "    file = open(destination_path, \"w\")\n",
    "    for i in range(len(plans)):\n",
    "        file.write(plans[i])\n",
    "    file.close()"
   ]
  },
  {
   "cell_type": "code",
   "execution_count": 5,
   "id": "cee84c95",
   "metadata": {},
   "outputs": [],
   "source": [
    "def prep(destination_path, time):\n",
    "    combined_path = destination_path\n",
    "    combined_file = open(combined_path, \"r\")\n",
    "    combined = combined_file.read()\n",
    "    combined_file.close()\n",
    "    \n",
    "    solution = \"\"\n",
    "    md=[]\n",
    "    gr=[]\n",
    "    asp=combined\n",
    "\n",
    "    ctl = clingo.Control(['--stats'])\n",
    "    ctl.add(\"base\", [], asp)\n",
    "    ctl.ground([(\"base\", [])])\n",
    "    with ctl.solve(yield_=True) as handle:\n",
    "        for m in handle: \n",
    "            solution=(\"{} \".format(m))\n",
    "            md=re.findall('md(.+?) ', (\"{} \".format(m)))\n",
    "            gr=re.findall('group(.+?) ', (\"{} \".format(m)))\n",
    "        handle.get()\n",
    "        solution = solution.replace(' ', '. ')\n",
    "    time.append(float(dumps(ctl.statistics['summary']['times']['total'], sort_keys=True, indent=4, separators=(',', ': '))))\n",
    "    print(dumps(ctl.statistics['summary']['times'], sort_keys=True, indent=4, separators=(',', ': ')))\n",
    "    return solution, gr, md, time"
   ]
  },
  {
   "cell_type": "code",
   "execution_count": 6,
   "id": "0302dd4b",
   "metadata": {},
   "outputs": [],
   "source": [
    "def plan(plan, groups, man_dis, destination_path, time):\n",
    "    combined_path = destination_path\n",
    "    combined_file = open(combined_path, \"r\")\n",
    "    combined = combined_file.read()\n",
    "    combined_file.close()\n",
    "    \n",
    "\n",
    "    for i in groups:\n",
    "        solution = \"\"\n",
    "        asp_= \"\"\n",
    "        grp = \"#const grp = {}.\".format(i)\n",
    "        asp = combined + grp\n",
    "        for j in range(man_dis,man_dis*2):\n",
    "            horizon = \"#const horizon = {}.\".format(j)\n",
    "            asp = asp + horizon\n",
    "            ctl = clingo.Control(['--stats'])\n",
    "            ctl.add(\"base\", [], asp)\n",
    "            ctl.ground([(\"base\", [])])\n",
    "            with ctl.solve(yield_=True) as handle:\n",
    "                for m in handle: \n",
    "                    solution = (\"{} \".format(m))\n",
    "                handle.get()\n",
    "                solution = solution.replace(' ', '. ')\n",
    "            if solution:\n",
    "                time.append(float(dumps(ctl.statistics['summary']['times']['total'], sort_keys=True, indent=4, separators=(',', ': '))))\n",
    "                plans.append(solution)\n",
    "                break\n",
    "    return plans, time"
   ]
  },
  {
   "cell_type": "code",
   "execution_count": 7,
   "id": "71fdc20f",
   "metadata": {},
   "outputs": [],
   "source": [
    "enc1 = \"./asprilo-encodings/group/path.lp\"\n",
    "enc2 = \"./asprilo-encodings/group/prep.lp\"\n",
    "enc3 = \"./asprilo-encodings/group/prep_all.lp\"\n",
    "enc4 = \"./asprilo-encodings/group/prep_all_og.lp\"\n",
    "abst = \"./instances/adrian/benchmark2/CNC/cnc_instance.lp\"\n",
    "inst = \"./instances/adrian/benchmark2/instance.lp\"\n",
    "dest1 = \"./solution/combined_instance.lp\"\n",
    "dest2 = \"./solution/combined_prep.lp\"\n",
    "dest3 = \"./solution/prep.lp\"\n",
    "dest4 = \"./solution/plan.lp\"\n"
   ]
  },
  {
   "cell_type": "code",
   "execution_count": 8,
   "id": "7fc25e40",
   "metadata": {},
   "outputs": [
    {
     "name": "stdout",
     "output_type": "stream",
     "text": [
      "{\n",
      "    \"cpu\": 0.03237200000000007,\n",
      "    \"sat\": 6.699562072753906e-05,\n",
      "    \"solve\": 0.005391120910644531,\n",
      "    \"total\": 0.031965017318725586,\n",
      "    \"unsat\": 0.0\n",
      "}\n",
      "[3, 13, 7, 5, 1, 15, 9, 5, 4, 6, 15, 0, 2, 9, 10, 2, 5, 22, 9, 19]\n",
      "1.180859088897705\n"
     ]
    }
   ],
   "source": [
    "time=[]\n",
    "plans=[]\n",
    "combine(enc2,abst,dest2)\n",
    "\n",
    "prep_, groups, man_dis, time = prep(dest2, time)\n",
    "save(prep_,dest3)\n",
    "combine(enc1,dest3,dest1)\n",
    "\n",
    "for i in range(len(groups)):\n",
    "    groups[i] = int(groups[i].strip('()'))\n",
    "md=[]\n",
    "for i in range(len(man_dis)):\n",
    "    x,y = map(int, man_dis[i].strip('()').split(','))\n",
    "    md.append(y)\n",
    "max_md = max(md)\n",
    "print(md)\n",
    "\n",
    "plans, time = plan(plans, groups, max_md, dest1, time)\n",
    "save_plans(plans, dest4)\n",
    "print(sum(time))"
   ]
  },
  {
   "cell_type": "code",
   "execution_count": 9,
   "id": "9cbeb1de",
   "metadata": {
    "scrolled": false
   },
   "outputs": [
    {
     "data": {
      "text/plain": [
       "\"\\ntime_all=[]\\nplans_all=[]\\ncombine(enc3,abst,dest2_all)\\n\\nprep_all, groups_all, man_dis_all, time_all = prep(dest2_all, time_all)\\nsave(prep_all,dest3_all)\\ncombine(enc1,dest3_all,dest1_all)\\n\\nfor i in range(len(groups_all)):\\n    groups[i] = int(groups_all[i].strip('()'))\\nmd_all=[]\\nfor i in range(len(man_dis_all)):\\n    x,y = map(int, man_dis_all[i].strip('()').split(','))\\n    md_all.append(y)\\nmax_md_all = max(md_all)\\n\\nplans_all, time_all = plan(plans_all, groups_all, max_md_all, dest1_all, time_all)\\nsave_plans(plans_all, dest4_all)\\nprint(sum(time_all))\\n\""
      ]
     },
     "execution_count": 9,
     "metadata": {},
     "output_type": "execute_result"
    }
   ],
   "source": [
    "\"\"\"\n",
    "time_all=[]\n",
    "plans_all=[]\n",
    "combine(enc3,abst,dest2_all)\n",
    "\n",
    "prep_all, groups_all, man_dis_all, time_all = prep(dest2_all, time_all)\n",
    "save(prep_all,dest3_all)\n",
    "combine(enc1,dest3_all,dest1_all)\n",
    "\n",
    "for i in range(len(groups_all)):\n",
    "    groups[i] = int(groups_all[i].strip('()'))\n",
    "md_all=[]\n",
    "for i in range(len(man_dis_all)):\n",
    "    x,y = map(int, man_dis_all[i].strip('()').split(','))\n",
    "    md_all.append(y)\n",
    "max_md_all = max(md_all)\n",
    "\n",
    "plans_all, time_all = plan(plans_all, groups_all, max_md_all, dest1_all, time_all)\n",
    "save_plans(plans_all, dest4_all)\n",
    "print(sum(time_all))\n",
    "\"\"\""
   ]
  },
  {
   "cell_type": "code",
   "execution_count": 10,
   "id": "de1d4113",
   "metadata": {},
   "outputs": [
    {
     "data": {
      "text/plain": [
       "\"\\ntime_all_og=[]\\nplans_all_og=[]\\ncombine(enc4,inst,dest2_all_og)\\n\\nprep_all_og, groups_all_og, man_dis_all_og, time_all_og = prep(dest2_all_og, time_all_og)\\nsave(prep_all_og,dest3_all_og)\\ncombine(enc1,dest3_all_og,dest1_all_og)\\n\\nfor i in range(len(groups_all_og)):\\n    groups[i] = int(groups_all_og[i].strip('()'))\\nmd_all_og=[]\\nfor i in range(len(man_dis_all_og)):\\n    x,y = map(int, man_dis_all_og[i].strip('()').split(','))\\n    md_all_og.append(y)\\nmax_md_all_og = max(md_all_og)\\n\\nplans_all_og, time_all_og = plan(plans_all_og, groups_all_og, max_md_all_og, dest1_all_og, time_all_og)\\nsave_plans(plans_all_og, dest4_all_og)\\nprint(sum(time_all_og))\\n\""
      ]
     },
     "execution_count": 10,
     "metadata": {},
     "output_type": "execute_result"
    }
   ],
   "source": [
    "\"\"\"\n",
    "time_all_og=[]\n",
    "plans_all_og=[]\n",
    "combine(enc4,inst,dest2_all_og)\n",
    "\n",
    "prep_all_og, groups_all_og, man_dis_all_og, time_all_og = prep(dest2_all_og, time_all_og)\n",
    "save(prep_all_og,dest3_all_og)\n",
    "combine(enc1,dest3_all_og,dest1_all_og)\n",
    "\n",
    "for i in range(len(groups_all_og)):\n",
    "    groups[i] = int(groups_all_og[i].strip('()'))\n",
    "md_all_og=[]\n",
    "for i in range(len(man_dis_all_og)):\n",
    "    x,y = map(int, man_dis_all_og[i].strip('()').split(','))\n",
    "    md_all_og.append(y)\n",
    "max_md_all_og = max(md_all_og)\n",
    "\n",
    "plans_all_og, time_all_og = plan(plans_all_og, groups_all_og, max_md_all_og, dest1_all_og, time_all_og)\n",
    "save_plans(plans_all_og, dest4_all_og)\n",
    "print(sum(time_all_og))\n",
    "\"\"\""
   ]
  }
 ],
 "metadata": {
  "kernelspec": {
   "display_name": "Python 3 (ipykernel)",
   "language": "python",
   "name": "python3"
  },
  "language_info": {
   "codemirror_mode": {
    "name": "ipython",
    "version": 3
   },
   "file_extension": ".py",
   "mimetype": "text/x-python",
   "name": "python",
   "nbconvert_exporter": "python",
   "pygments_lexer": "ipython3",
   "version": "3.7.11"
  }
 },
 "nbformat": 4,
 "nbformat_minor": 5
}
