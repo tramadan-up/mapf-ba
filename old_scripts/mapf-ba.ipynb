{
 "cells": [
  {
   "cell_type": "code",
   "execution_count": 1,
   "metadata": {},
   "outputs": [],
   "source": [
    "import clingo\n",
    "import re\n",
    "import time"
   ]
  },
  {
   "cell_type": "code",
   "execution_count": 2,
   "metadata": {},
   "outputs": [],
   "source": [
    "def combine(encoding_path, benchmark_path, destination_path):\n",
    "    \n",
    "    combined_path = destination_path + \"/combined.lp\"\n",
    "    \n",
    "    encoding_file = open(encoding_path, \"r\")\n",
    "    encoding = encoding_file.read()\n",
    "    encoding_file.close()\n",
    "    \n",
    "    benchmark_file = open(benchmark_path, \"r\")\n",
    "    benchmark = benchmark_file.read()\n",
    "    benchmark_file.close()\n",
    "    \n",
    "    combined_file = open(combined_path, \"w\")\n",
    "    combined = combined_file.write(benchmark + encoding)\n",
    "    combined_file.close()"
   ]
  },
  {
   "cell_type": "code",
   "execution_count": 3,
   "metadata": {},
   "outputs": [],
   "source": [
    "def save_plans(plans, k=0):\n",
    "    if type(plans)==list:\n",
    "        for i in range(len(plans)):\n",
    "            if type(plans[i])==str:\n",
    "                with open(\"./python/solution_%d_%d.lp\" % (k,i), 'w') as f:\n",
    "                    f.write(plans[i])\n",
    "            else:\n",
    "                if type(plans[i])==list:\n",
    "                    k+=1\n",
    "                    save_plans(plans[i],k)\n",
    "    else:\n",
    "        if type(plans)==str:\n",
    "                with open(\"./python/solution_%d.lp\" % (k), 'w') as f:\n",
    "                    f.write(plans)"
   ]
  },
  {
   "cell_type": "code",
   "execution_count": 4,
   "metadata": {},
   "outputs": [],
   "source": [
    "def solve(robot_id, destination_path, restrictions=[], fin=[]):\n",
    "    \"\"\"\n",
    "    if fin:\n",
    "        fin=sum(fin)\n",
    "    else:\n",
    "        fin=5\n",
    "    \"\"\"\n",
    "    combined_path = destination_path + \"/combined.lp\"\n",
    "    combined_file = open(combined_path, \"r\")\n",
    "    combined = combined_file.read()\n",
    "    combined_file.close()\n",
    "    \n",
    "    rid = \"#const rid = {}.\".format(robot_id)\n",
    "    #fin = \"#const fin = {}.\".format(fin)\n",
    "    fin=\"\"\n",
    "    for i in range(1,100):\n",
    "        solution = \"\"\n",
    "        horizon = \"#const horizon = {}.\".format(i)\n",
    "        asp = horizon + \"\\n\" + rid + \"\\n\" + fin + \"\\n\" + combined\n",
    "        if restrictions:\n",
    "            for j in restrictions:\n",
    "                if j:\n",
    "                    asp = asp + \"\\n\" + j\n",
    "            \n",
    "        ctl = clingo.Control()\n",
    "        ctl.add(\"base\", [], asp)\n",
    "        ctl.ground([(\"base\", [])])\n",
    "        with ctl.solve(yield_=True) as handle:\n",
    "            for m in handle: solution=(\"{} \".format(m))\n",
    "            handle.get()\n",
    "        solution = solution.replace(' ', '. ')\n",
    "        if solution:\n",
    "            return solution, i\n",
    "            break"
   ]
  },
  {
   "cell_type": "code",
   "execution_count": 5,
   "metadata": {},
   "outputs": [],
   "source": [
    "def prep(robots, destination, restrictions=[]):\n",
    "    plans=[]\n",
    "    plan_=\"\"\n",
    "    paths = []\n",
    "    actions = []\n",
    "    \n",
    "    if not paths:\n",
    "        for i in robots:\n",
    "            paths.append([])\n",
    "\n",
    "    for i in robots:\n",
    "        temp = solve(i, destination, restrictions)\n",
    "        paths[i-1].append(temp[0])\n",
    "        actions.append(temp[1])\n",
    "        if paths[i-1][0]:\n",
    "            plan_ = plan_ + paths[i-1][0]\n",
    "    return paths, plan_, actions"
   ]
  },
  {
   "cell_type": "code",
   "execution_count": 6,
   "metadata": {},
   "outputs": [],
   "source": [
    "def collisions(robot_id, encoding_path, plan):\n",
    "    \n",
    "    encoding_file = open(encoding_path, \"r\")\n",
    "    encoding = encoding_file.read()\n",
    "    encoding_file.close()\n",
    "    \n",
    "    rid = \"#const rid = {}.\".format(robot_id)\n",
    "    asp = rid + \"\\n\" + plan + \"\\n\" + encoding\n",
    "    solution_ = \"\"\n",
    "    \n",
    "    ctl = clingo.Control()\n",
    "    ctl.add(\"base\", [], asp)\n",
    "    ctl.ground([(\"base\", [])])\n",
    "    with ctl.solve(yield_=True) as handle:\n",
    "        for m in handle: solution_=(\"{} \".format(m))\n",
    "        handle.get()\n",
    "    if solution_== \" \":\n",
    "        return\n",
    "    else:\n",
    "        solution_ = solution_.replace(' ', '. ')\n",
    "        return solution_"
   ]
  },
  {
   "cell_type": "code",
   "execution_count": 7,
   "metadata": {},
   "outputs": [],
   "source": [
    "def plan(robots, destination, collision, paths, plan_, actions, restrictions=[], actions_=[]):\n",
    "    if not actions_ or sum(actions_)==0:\n",
    "        actions_ = list(actions)\n",
    "    \n",
    "    max_value = max(actions_)\n",
    "    max_index = actions_.index(max_value)\n",
    "    cur_rest = []\n",
    "    cur_rest.append(collisions(actions_[max_index], collision, plan_))\n",
    "    actions_[max_index] = 0\n",
    "    #fin=[min(actions)]\n",
    "    if cur_rest[0]:\n",
    "        restrictions.append(cur_rest[-1])\n",
    "        restrictions_ = \" \".join(cur_rest)\n",
    "        restricted_robots = []\n",
    "        restricted_robots =  re.findall('s\\((.+?),', restrictions_)\n",
    "        restricted_robots = list(map(int, restricted_robots))\n",
    "        restricted_robots = list(set(restricted_robots))\n",
    "        for i in restricted_robots:\n",
    "            temp = solve(i, destination, restrictions)\n",
    "            #temp = solve(i, destination, restrictions, fin)\n",
    "            paths[i-1] = [temp[0]]\n",
    "            actions[i-1] = temp[1]\n",
    "        plan_ = \"\"\n",
    "        for i in robots:\n",
    "            if paths[i-1][0]:\n",
    "                plan_ = plan_ + paths[i-1][0]\n",
    "        plan_ = plan(robots, destination, collision, paths, plan_, actions, restrictions, actions_)\n",
    "    return plan_"
   ]
  },
  {
   "cell_type": "code",
   "execution_count": 8,
   "metadata": {
    "scrolled": true
   },
   "outputs": [
    {
     "name": "stdout",
     "output_type": "stream",
     "text": [
      "31.557743310928345\n"
     ]
    }
   ],
   "source": [
    "enc = \"./asprilo-encodings/shortest_path/pathfinder.lp\"\n",
    "ben = \"./instances/example4/instance.lp\"\n",
    "dest = \"./python\"\n",
    "col = \"./asprilo-encodings/collision/collision.lp\"\n",
    "robots = []\n",
    "for i in range(1,26):\n",
    "    robots.append(i)\n",
    "start = time.time()\n",
    "rest=[]\n",
    "sel=[]\n",
    "plans =[]\n",
    "\n",
    "\n",
    "combine(enc, ben, dest)\n",
    "paths, plan_, actions = prep(robots, dest, rest)\n",
    "plans_=plan(robots, dest, col, paths, plan_, actions, rest, sel)\n",
    "save_plans(plans_)\n",
    "end = time.time()\n",
    "print(end-start)"
   ]
  },
  {
   "cell_type": "code",
   "execution_count": null,
   "metadata": {},
   "outputs": [],
   "source": []
  },
  {
   "cell_type": "code",
   "execution_count": null,
   "metadata": {},
   "outputs": [],
   "source": []
  },
  {
   "cell_type": "code",
   "execution_count": null,
   "metadata": {},
   "outputs": [],
   "source": []
  },
  {
   "cell_type": "code",
   "execution_count": null,
   "metadata": {},
   "outputs": [],
   "source": []
  },
  {
   "cell_type": "code",
   "execution_count": null,
   "metadata": {},
   "outputs": [],
   "source": []
  },
  {
   "cell_type": "code",
   "execution_count": null,
   "metadata": {},
   "outputs": [],
   "source": []
  }
 ],
 "metadata": {
  "kernelspec": {
   "display_name": "Python 3",
   "language": "python",
   "name": "python3"
  },
  "language_info": {
   "codemirror_mode": {
    "name": "ipython",
    "version": 3
   },
   "file_extension": ".py",
   "mimetype": "text/x-python",
   "name": "python",
   "nbconvert_exporter": "python",
   "pygments_lexer": "ipython3",
   "version": "3.7.6"
  }
 },
 "nbformat": 4,
 "nbformat_minor": 4
}
