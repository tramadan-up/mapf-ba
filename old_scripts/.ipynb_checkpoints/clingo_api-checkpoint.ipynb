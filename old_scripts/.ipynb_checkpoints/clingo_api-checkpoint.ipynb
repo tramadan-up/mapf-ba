{
 "cells": [
  {
   "cell_type": "code",
   "execution_count": 5,
   "metadata": {},
   "outputs": [],
   "source": [
    "import clingo\n",
    "import json\n",
    "import re"
   ]
  },
  {
   "cell_type": "code",
   "execution_count": 6,
   "metadata": {},
   "outputs": [],
   "source": [
    "asp=\"collisions(20,(1,3)). collisions(20,(1,3)). collisions(25,(1,3)). collisions(23,(1,3)). collisions(21,(1,3)). collisions(2,(1,3)).\"\n",
    "li=[]"
   ]
  },
  {
   "cell_type": "code",
   "execution_count": 7,
   "metadata": {},
   "outputs": [],
   "source": [
    "ctl = clingo.Control()\n",
    "ctl.add(\"base\", [], asp)\n",
    "ctl.ground([(\"base\", [])])\n",
    "with ctl.solve(yield_=True) as handle:\n",
    "    for m in handle: li = re.findall('s\\((.+?),',(\"{} \".format(m)))\n",
    "    handle.get()\n",
    "li=list(set(map(int,li)))"
   ]
  },
  {
   "cell_type": "code",
   "execution_count": 8,
   "metadata": {},
   "outputs": [
    {
     "name": "stdout",
     "output_type": "stream",
     "text": [
      "[2, 20, 21, 23, 25]\n"
     ]
    }
   ],
   "source": [
    "\n",
    "print(li)"
   ]
  },
  {
   "cell_type": "code",
   "execution_count": null,
   "metadata": {},
   "outputs": [],
   "source": []
  },
  {
   "cell_type": "code",
   "execution_count": null,
   "metadata": {},
   "outputs": [],
   "source": []
  },
  {
   "cell_type": "code",
   "execution_count": null,
   "metadata": {},
   "outputs": [],
   "source": []
  }
 ],
 "metadata": {
  "kernelspec": {
   "display_name": "Python 3",
   "language": "python",
   "name": "python3"
  },
  "language_info": {
   "codemirror_mode": {
    "name": "ipython",
    "version": 3
   },
   "file_extension": ".py",
   "mimetype": "text/x-python",
   "name": "python",
   "nbconvert_exporter": "python",
   "pygments_lexer": "ipython3",
   "version": "3.7.6"
  }
 },
 "nbformat": 4,
 "nbformat_minor": 4
}
