{
 "cells": [
  {
   "cell_type": "code",
   "execution_count": 1,
   "metadata": {},
   "outputs": [],
   "source": [
    "import clingo\n",
    "import re\n",
    "from json import dumps\n",
    "import os"
   ]
  },
  {
   "cell_type": "code",
   "execution_count": 2,
   "metadata": {},
   "outputs": [],
   "source": [
    "def combine(encoding_path, benchmark_path, destination_path):  \n",
    "    combined_path = destination_path\n",
    "    \n",
    "    encoding_file = open(encoding_path, \"r\")\n",
    "    encoding = encoding_file.read()\n",
    "    encoding_file.close()\n",
    "    \n",
    "    benchmark_file = open(benchmark_path, \"r\")\n",
    "    benchmark = benchmark_file.read()\n",
    "    benchmark_file.close()\n",
    "    \n",
    "    combined_file = open(combined_path, \"w\")\n",
    "    combined = combined_file.write(benchmark + encoding)\n",
    "    combined_file.close()"
   ]
  },
  {
   "cell_type": "code",
   "execution_count": 3,
   "metadata": {},
   "outputs": [],
   "source": [
    "def save(solution, destination_path):\n",
    "    file = open(destination_path, \"w\")\n",
    "    file.write(solution)\n",
    "    file.close()"
   ]
  },
  {
   "cell_type": "code",
   "execution_count": 4,
   "metadata": {},
   "outputs": [],
   "source": [
    "def save_plans(plans, destination_path):\n",
    "    file = open(destination_path, \"w\")\n",
    "    for i in range(len(plans)):\n",
    "        file.write(plans[i])\n",
    "    file.close()"
   ]
  },
  {
   "cell_type": "code",
   "execution_count": 5,
   "metadata": {},
   "outputs": [],
   "source": [
    "def solve(robot_id, man_dis, destination_path, time, restrictions=[]):\n",
    "    combined_path = destination_path\n",
    "    combined_file = open(combined_path, \"r\")\n",
    "    combined = combined_file.read()\n",
    "    combined_file.close()\n",
    "    rid = \"#const rid = {}.\".format(robot_id)\n",
    "    md=man_dis\n",
    "    if md==0:\n",
    "        while md==0:\n",
    "            solution = \"\"\n",
    "            horizon = \"#const horizon = {}.\".format(md)\n",
    "            asp = horizon + \"\\n\" + rid + \"\\n\" + combined\n",
    "            if restrictions:\n",
    "                for j in restrictions:\n",
    "                    if j:\n",
    "                        asp = asp + \"\\n\" + j\n",
    "\n",
    "            ctl = clingo.Control(['--stats'])\n",
    "            ctl.add(\"base\", [], asp)\n",
    "            ctl.ground([(\"base\", [])])\n",
    "            with ctl.solve(yield_=True) as handle:\n",
    "                for m in handle: solution=(\"{} \".format(m))\n",
    "                handle.get()\n",
    "            time.append(float(dumps(ctl.statistics['summary']['times']['total'], sort_keys=True, indent=4, separators=(',', ': '))))\n",
    "            solution = solution.replace(' ', '. ')\n",
    "            md=md+1\n",
    "            if solution:\n",
    "                return solution, md, time\n",
    "                break\n",
    "\n",
    "    for i in range(md,md*2):\n",
    "        solution = \"\"\n",
    "        horizon = \"#const horizon = {}.\".format(i)\n",
    "        asp = horizon + \"\\n\" + rid + \"\\n\" + combined\n",
    "        if restrictions:\n",
    "            for j in restrictions:\n",
    "                if j:\n",
    "                    asp = asp + \"\\n\" + j\n",
    "        ctl = clingo.Control(['--stats'])\n",
    "        ctl.add(\"base\", [], asp)\n",
    "        ctl.ground([(\"base\", [])])\n",
    "        with ctl.solve(yield_=True) as handle:\n",
    "            for m in handle: solution=(\"{} \".format(m))\n",
    "            handle.get()\n",
    "        time.append(float(dumps(ctl.statistics['summary']['times']['total'], sort_keys=True, indent=4, separators=(',', ': '))))\n",
    "        solution = solution.replace(' ', '. ')\n",
    "        if solution:\n",
    "            return solution, i, time\n",
    "            break"
   ]
  },
  {
   "cell_type": "code",
   "execution_count": 6,
   "metadata": {},
   "outputs": [],
   "source": [
    "def prep(destination_path, time):\n",
    "    combined_path = destination_path\n",
    "    combined_file = open(combined_path, \"r\")\n",
    "    combined = combined_file.read()\n",
    "    combined_file.close()\n",
    "    \n",
    "    solution = \"\"\n",
    "    md=[]\n",
    "    r=[]\n",
    "    asp=combined\n",
    "\n",
    "    ctl = clingo.Control(['--stats'])\n",
    "    ctl.add(\"base\", [], asp)\n",
    "    ctl.ground([(\"base\", [])])\n",
    "    with ctl.solve(yield_=True) as handle:\n",
    "        for m in handle: \n",
    "            solution=(\"{} \".format(m))\n",
    "            md=re.findall('md(.+?) ', (\"{} \".format(m)))\n",
    "            r=re.findall('rbt(.+?) ', (\"{} \".format(m)))\n",
    "        handle.get()\n",
    "        solution = solution.replace(' ', '. ')\n",
    "    time.append(float(dumps(ctl.statistics['summary']['times']['total'], sort_keys=True, indent=4, separators=(',', ': '))))\n",
    "    return solution, r, md, time"
   ]
  },
  {
   "cell_type": "code",
   "execution_count": 7,
   "metadata": {},
   "outputs": [],
   "source": [
    "def preplan(robots, man_dis, destination, time, restrictions=[]):\n",
    "    plans=[]\n",
    "    plan_=\"\"\n",
    "    paths = []\n",
    "    actions = []\n",
    "    \n",
    "    if not paths:\n",
    "        for i in robots:\n",
    "            paths.append([])\n",
    "    \n",
    "    for i in robots:\n",
    "        temp = solve(i, man_dis, destination, time, restrictions)\n",
    "        paths[i-1].append(temp[0])\n",
    "        actions.append(temp[1])\n",
    "        time = temp[2]\n",
    "        if paths[i-1][0]:\n",
    "            plan_ = plan_ + paths[i-1][0]\n",
    "    return paths, plan_, actions, time"
   ]
  },
  {
   "cell_type": "code",
   "execution_count": 8,
   "metadata": {},
   "outputs": [],
   "source": [
    "def collisions(robot_id, encoding_path, plan, time):\n",
    "    \n",
    "    encoding_file = open(encoding_path, \"r\")\n",
    "    encoding = encoding_file.read()\n",
    "    encoding_file.close()\n",
    "    \n",
    "    rid = \"#const rid = {}.\".format(robot_id)\n",
    "    asp = rid + \"\\n\" + plan + \"\\n\" + encoding\n",
    "    solution_ = \"\"\n",
    "    li = []\n",
    "    \n",
    "    ctl = clingo.Control(['--stats'])\n",
    "    ctl.add(\"base\", [], asp)\n",
    "    ctl.ground([(\"base\", [])])\n",
    "    with ctl.solve(yield_=True) as handle:\n",
    "        for m in handle: \n",
    "            solution_=(\"{} \".format(m))\n",
    "            li = re.findall('s\\((.+?),',(\"{} \".format(m)))\n",
    "        handle.get()\n",
    "    time.append(float(dumps(ctl.statistics['summary']['times']['total'], sort_keys=True, indent=4, separators=(',', ': '))))\n",
    "    li=list(set(map(int,li)))\n",
    "    if solution_== \" \":\n",
    "        return\n",
    "    else:\n",
    "        solution_ = solution_.replace(' ', '. ')\n",
    "        \n",
    "        return solution_, li, time"
   ]
  },
  {
   "cell_type": "code",
   "execution_count": 9,
   "metadata": {},
   "outputs": [],
   "source": [
    "def plan(robots, destination, collision, paths, plan_, actions, time, restrictions=[]):\n",
    "    max_value = max(actions)\n",
    "    max_index = actions.index(max_value)\n",
    "    cur_rest = []\n",
    "    temp_ = collisions(actions[max_index], collision, plan_, time)\n",
    "    if temp_:\n",
    "        cur_rest.append(temp_[0])\n",
    "        time=temp_[2]\n",
    "    if cur_rest:\n",
    "        restrictions.append(cur_rest[-1])\n",
    "        restricted_robots = temp_[1]\n",
    "        for i in restricted_robots:\n",
    "            temp = solve(i, max_value, destination, time, restrictions)\n",
    "            if temp:\n",
    "                paths[i-1] = [temp[0]]\n",
    "                actions[i-1] = temp[1]\n",
    "                time = temp[2]\n",
    "        plan_ = \"\"\n",
    "        for i in robots:\n",
    "            if paths[i-1][0]:\n",
    "                plan_ = plan_ + paths[i-1][0]\n",
    "        plan_, time = plan(robots, destination, collision, paths, plan_, actions, time, restrictions)\n",
    "    return plan_, time"
   ]
  },
  {
   "cell_type": "code",
   "execution_count": 10,
   "metadata": {
    "scrolled": true
   },
   "outputs": [],
   "source": [
    "enc1 = \"./asprilo-encodings/recursive/path.lp\"\n",
    "enc2 = \"./asprilo-encodings/recursive/prep.lp\"\n",
    "ben = \"./instances/adrian/benchmark2/CNC/cnc_instance.lp\"\n",
    "dest1 = \"./solution/recursive/combined_instance.lp\"\n",
    "dest2 = \"./solution/recursive/combined_prep.lp\"\n",
    "dest3 = \"./solution/recursive/prep.lp\"\n",
    "col = \"./asprilo-encodings/collision/collision.lp\"\n",
    "dest4 = \"./solution/recursive/plan.lp\"\n",
    "time=[]\n",
    "rest=[]"
   ]
  },
  {
   "cell_type": "code",
   "execution_count": 11,
   "metadata": {},
   "outputs": [],
   "source": [
    "combine(enc2, ben, dest2)\n",
    "\n",
    "prep_, robots, man_dis, time = prep(dest2, time)\n",
    "\n",
    "save(prep_,dest3)\n",
    "combine(enc1,dest3,dest1)\n",
    "\n",
    "\n",
    "for i in range(len(robots)):\n",
    "    robots[i] = int(robots[i].strip('()'))\n",
    "md=[]\n",
    "for i in range(len(man_dis)):\n",
    "    x,y = map(int, man_dis[i].strip('()').split(','))\n",
    "    md.append(y)\n",
    "max_md = max(md)\n",
    "min_md = min(md)\n",
    "paths, plan_, actions, time = preplan(robots, max_md, dest1, time, rest)"
   ]
  },
  {
   "cell_type": "code",
   "execution_count": 12,
   "metadata": {},
   "outputs": [],
   "source": [
    "plans, time = plan(robots, dest1, col, paths, plan_, actions, time, rest)"
   ]
  },
  {
   "cell_type": "code",
   "execution_count": 13,
   "metadata": {},
   "outputs": [],
   "source": [
    "save_plans(plans, dest4)"
   ]
  },
  {
   "cell_type": "code",
   "execution_count": 14,
   "metadata": {},
   "outputs": [
    {
     "name": "stdout",
     "output_type": "stream",
     "text": [
      "position(1,(14,5),0). position(1,(13,5),1). position(1,(12,5),2). position(1,(12,5),3). position(1,(12,5),4). position(1,(12,6),5). position(1,(12,6),6). position(1,(12,6),7). position(1,(12,6),8). position(1,(12,6),9). position(1,(12,6),10). position(1,(12,6),11). position(1,(12,6),12). position(1,(12,6),13). position(1,(12,6),14). position(1,(12,6),15). position(1,(12,6),16). position(1,(12,6),17). position(1,(12,6),18). position(1,(12,6),19). position(1,(12,6),20). position(1,(12,6),21). position(1,(12,6),22). occurs(object(robot,1),action(move,(-1,0)),1). occurs(object(robot,1),action(move,(-1,0)),2). occurs(object(robot,1),action(move,(0,1)),5). position(2,(7,13),0). position(2,(8,13),1). position(2,(9,13),2). position(2,(10,13),3). position(2,(11,13),4). position(2,(12,13),5). position(2,(12,12),6). position(2,(12,11),7). position(2,(12,10),8). position(2,(12,9),9). position(2,(12,9),10). position(2,(12,9),11). position(2,(12,9),12). position(2,(12,9),13). position(2,(12,9),14). position(2,(12,9),15). position(2,(12,9),16). position(2,(12,9),17). position(2,(12,9),18). position(2,(13,9),19). position(2,(14,9),20). position(2,(14,9),21). position(2,(14,8),22). position(2,(15,8),23). occurs(object(robot,2),action(move,(1,0)),1). occurs(object(robot,2),action(move,(1,0)),2). occurs(object(robot,2),action(move,(1,0)),3). occurs(object(robot,2),action(move,(1,0)),4). occurs(object(robot,2),action(move,(1,0)),5). occurs(object(robot,2),action(move,(0,-1)),6). occurs(object(robot,2),action(move,(0,-1)),7). occurs(object(robot,2),action(move,(0,-1)),8). occurs(object(robot,2),action(move,(0,-1)),9). occurs(object(robot,2),action(move,(1,0)),19). occurs(object(robot,2),action(move,(1,0)),20). occurs(object(robot,2),action(move,(0,-1)),22). occurs(object(robot,2),action(move,(1,0)),23). position(3,(9,13),0). position(3,(10,13),1). position(3,(11,13),2). position(3,(11,12),3). position(3,(12,12),4). position(3,(13,12),5). position(3,(14,12),6). position(3,(15,12),7). position(3,(15,11),8). position(3,(15,11),9). position(3,(15,11),10). position(3,(15,11),11). position(3,(15,11),12). position(3,(15,11),13). position(3,(15,11),14). position(3,(15,11),15). position(3,(15,11),16). position(3,(15,11),17). position(3,(15,11),18). position(3,(15,11),19). position(3,(15,11),20). position(3,(15,11),21). position(3,(15,12),22). occurs(object(robot,3),action(move,(1,0)),1). occurs(object(robot,3),action(move,(1,0)),2). occurs(object(robot,3),action(move,(0,-1)),3). occurs(object(robot,3),action(move,(1,0)),4). occurs(object(robot,3),action(move,(1,0)),5). occurs(object(robot,3),action(move,(1,0)),6). occurs(object(robot,3),action(move,(1,0)),7). occurs(object(robot,3),action(move,(0,-1)),8). occurs(object(robot,3),action(move,(0,1)),22). position(4,(15,10),0). position(4,(15,9),1). position(4,(15,8),2). position(4,(15,7),3). position(4,(14,7),4). position(4,(14,6),5). position(4,(13,6),6). position(4,(13,6),7). position(4,(13,6),8). position(4,(13,6),9). position(4,(13,6),10). position(4,(13,6),11). position(4,(13,6),12). position(4,(13,6),13). position(4,(13,6),14). position(4,(13,6),15). position(4,(13,6),16). position(4,(13,6),17). position(4,(13,6),18). position(4,(13,6),19). position(4,(13,6),20). position(4,(13,6),21). position(4,(13,6),22). position(4,(14,6),23). occurs(object(robot,4),action(move,(0,-1)),1). occurs(object(robot,4),action(move,(0,-1)),2). occurs(object(robot,4),action(move,(0,-1)),3). occurs(object(robot,4),action(move,(-1,0)),4). occurs(object(robot,4),action(move,(0,-1)),5). occurs(object(robot,4),action(move,(-1,0)),6). occurs(object(robot,4),action(move,(1,0)),23). position(5,(15,15),0). position(5,(15,15),1). position(5,(15,15),2). position(5,(15,15),3). position(5,(14,15),4). position(5,(14,15),5). position(5,(14,15),6). position(5,(14,15),7). position(5,(14,15),8). position(5,(14,15),9). position(5,(14,15),10). position(5,(14,15),11). position(5,(14,15),12). position(5,(14,15),13). position(5,(14,15),14). position(5,(14,15),15). position(5,(14,15),16). position(5,(14,15),17). position(5,(14,15),18). position(5,(14,15),19). position(5,(14,15),20). position(5,(14,15),21). position(5,(14,15),22). occurs(object(robot,5),action(move,(-1,0)),4). position(6,(14,1),0). position(6,(13,1),1). position(6,(12,1),2). position(6,(11,1),3). position(6,(11,2),4). position(6,(10,2),5). position(6,(10,3),6). position(6,(10,4),7). position(6,(10,5),8). position(6,(10,6),9). position(6,(9,6),10). position(6,(8,6),11). position(6,(7,6),12). position(6,(6,6),13). position(6,(5,6),14). position(6,(5,6),15). position(6,(5,6),16). position(6,(5,6),17). position(6,(5,6),18). position(6,(5,6),19). position(6,(5,6),20). position(6,(5,6),21). position(6,(4,6),22). occurs(object(robot,6),action(move,(-1,0)),1). occurs(object(robot,6),action(move,(-1,0)),2). occurs(object(robot,6),action(move,(-1,0)),3). occurs(object(robot,6),action(move,(0,1)),4). occurs(object(robot,6),action(move,(-1,0)),5). occurs(object(robot,6),action(move,(0,1)),6). occurs(object(robot,6),action(move,(0,1)),7). occurs(object(robot,6),action(move,(0,1)),8). occurs(object(robot,6),action(move,(0,1)),9). occurs(object(robot,6),action(move,(-1,0)),10). occurs(object(robot,6),action(move,(-1,0)),11). occurs(object(robot,6),action(move,(-1,0)),12). occurs(object(robot,6),action(move,(-1,0)),13). occurs(object(robot,6),action(move,(-1,0)),14). occurs(object(robot,6),action(move,(-1,0)),22). position(7,(3,11),0). position(7,(4,11),1). position(7,(4,12),2). position(7,(5,12),3). position(7,(6,12),4). position(7,(7,12),5). position(7,(8,12),6). position(7,(9,12),7). position(7,(10,12),8). position(7,(11,12),9). position(7,(11,12),10). position(7,(11,12),11). position(7,(11,12),12). position(7,(11,12),13). position(7,(11,12),14). position(7,(11,12),15). position(7,(11,12),16). position(7,(11,12),17). position(7,(11,12),18). position(7,(11,12),19). position(7,(11,12),20). position(7,(11,12),21). position(7,(11,12),22). position(7,(11,12),23). occurs(object(robot,7),action(move,(1,0)),1). occurs(object(robot,7),action(move,(0,1)),2). occurs(object(robot,7),action(move,(1,0)),3). occurs(object(robot,7),action(move,(1,0)),4). occurs(object(robot,7),action(move,(1,0)),5). occurs(object(robot,7),action(move,(1,0)),6). occurs(object(robot,7),action(move,(1,0)),7). occurs(object(robot,7),action(move,(1,0)),8). occurs(object(robot,7),action(move,(1,0)),9). position(8,(10,11),0). position(8,(10,10),1). position(8,(10,9),2). position(8,(10,8),3). position(8,(11,8),4). position(8,(12,8),5). position(8,(12,7),6). position(8,(12,7),7). position(8,(12,7),8). position(8,(12,7),9). position(8,(12,7),10). position(8,(12,7),11). position(8,(12,7),12). position(8,(12,7),13). position(8,(12,7),14). position(8,(12,7),15). position(8,(12,7),16). position(8,(12,7),17). position(8,(12,7),18). position(8,(12,7),19). position(8,(12,7),20). position(8,(12,7),21). position(8,(12,7),22). position(8,(12,8),23). occurs(object(robot,8),action(move,(0,-1)),1). occurs(object(robot,8),action(move,(0,-1)),2). occurs(object(robot,8),action(move,(0,-1)),3). occurs(object(robot,8),action(move,(1,0)),4). occurs(object(robot,8),action(move,(1,0)),5). occurs(object(robot,8),action(move,(0,-1)),6). occurs(object(robot,8),action(move,(0,1)),23). position(9,(1,9),0). position(9,(1,8),1). position(9,(1,7),2). position(9,(1,6),3). position(9,(1,5),4). position(9,(1,5),5). position(9,(1,5),6). position(9,(1,5),7). position(9,(1,5),8). position(9,(1,5),9). position(9,(1,5),10). position(9,(1,5),11). position(9,(1,5),12). position(9,(1,5),13). position(9,(1,5),14). position(9,(1,5),15). position(9,(1,5),16). position(9,(1,5),17). position(9,(1,5),18). position(9,(1,5),19). position(9,(1,5),20). position(9,(1,5),21). position(9,(1,5),22). occurs(object(robot,9),action(move,(0,-1)),1). occurs(object(robot,9),action(move,(0,-1)),2). occurs(object(robot,9),action(move,(0,-1)),3). occurs(object(robot,9),action(move,(0,-1)),4). position(10,(8,6),0). position(10,(9,6),1). position(10,(10,6),2). position(10,(10,5),3). position(10,(11,5),4). position(10,(12,5),5). position(10,(12,5),6). position(10,(12,5),7). position(10,(12,5),8). position(10,(12,5),9). position(10,(12,5),10). position(10,(12,5),11). position(10,(12,5),12). position(10,(12,5),13). position(10,(12,5),14). position(10,(12,5),15). position(10,(12,5),16). position(10,(12,5),17). position(10,(12,5),18). position(10,(12,5),19). position(10,(12,5),20). position(10,(12,5),21). position(10,(13,5),22). occurs(object(robot,10),action(move,(1,0)),1). occurs(object(robot,10),action(move,(1,0)),2). occurs(object(robot,10),action(move,(0,-1)),3). occurs(object(robot,10),action(move,(1,0)),4). occurs(object(robot,10),action(move,(1,0)),5). occurs(object(robot,10),action(move,(1,0)),22). position(11,(6,2),0). position(11,(7,2),1). position(11,(7,3),2). position(11,(7,4),3). position(11,(8,4),4). position(11,(8,5),5). position(11,(8,6),6). position(11,(8,7),7). position(11,(9,7),8). position(11,(9,8),9). position(11,(9,9),10). position(11,(9,9),11). position(11,(9,10),12). position(11,(9,11),13). position(11,(9,12),14). position(11,(9,13),15). position(11,(9,14),16). position(11,(9,15),17). position(11,(9,15),18). position(11,(9,15),19). position(11,(9,15),20). position(11,(9,15),21). position(11,(9,15),22). position(11,(8,15),23). occurs(object(robot,11),action(move,(1,0)),1). occurs(object(robot,11),action(move,(0,1)),2). occurs(object(robot,11),action(move,(0,1)),3). occurs(object(robot,11),action(move,(1,0)),4). occurs(object(robot,11),action(move,(0,1)),5). occurs(object(robot,11),action(move,(0,1)),6). occurs(object(robot,11),action(move,(0,1)),7). occurs(object(robot,11),action(move,(1,0)),8). occurs(object(robot,11),action(move,(0,1)),9). occurs(object(robot,11),action(move,(0,1)),10). occurs(object(robot,11),action(move,(0,1)),12). occurs(object(robot,11),action(move,(0,1)),13). occurs(object(robot,11),action(move,(0,1)),14). occurs(object(robot,11),action(move,(0,1)),15). occurs(object(robot,11),action(move,(0,1)),16). occurs(object(robot,11),action(move,(0,1)),17). occurs(object(robot,11),action(move,(-1,0)),23). position(12,(5,10),0). position(12,(4,10),1). position(12,(3,10),2). position(12,(3,10),3). position(12,(3,10),4). position(12,(3,10),5). position(12,(4,10),6). position(12,(4,10),7). position(12,(4,10),8). position(12,(4,10),9). position(12,(5,10),10). position(12,(6,10),11). position(12,(6,10),12). position(12,(6,10),13). position(12,(6,10),14). position(12,(6,10),15). position(12,(6,10),16). position(12,(6,10),17). position(12,(6,10),18). position(12,(6,10),19). position(12,(6,10),20). position(12,(6,10),21). position(12,(6,10),22). position(12,(5,10),23). occurs(object(robot,12),action(move,(-1,0)),1). occurs(object(robot,12),action(move,(-1,0)),2). occurs(object(robot,12),action(move,(1,0)),6). occurs(object(robot,12),action(move,(1,0)),10). occurs(object(robot,12),action(move,(1,0)),11). occurs(object(robot,12),action(move,(-1,0)),23). position(13,(1,2),0). position(13,(1,3),1). position(13,(2,3),2). position(13,(2,3),3). position(13,(2,3),4). position(13,(2,3),5). position(13,(2,3),6). position(13,(2,3),7). position(13,(2,3),8). position(13,(2,3),9). position(13,(2,3),10). position(13,(2,3),11). position(13,(2,3),12). position(13,(2,3),13). position(13,(2,3),14). position(13,(2,3),15). position(13,(2,3),16). position(13,(2,3),17). position(13,(2,3),18). position(13,(2,3),19). position(13,(2,3),20). position(13,(2,3),21). position(13,(2,3),22). occurs(object(robot,13),action(move,(0,1)),1). occurs(object(robot,13),action(move,(1,0)),2). position(14,(9,3),0). position(14,(9,4),1). position(14,(9,5),2). position(14,(9,6),3). position(14,(9,7),4). position(14,(8,7),5). position(14,(7,7),6). position(14,(6,7),7). position(14,(6,7),8). position(14,(6,7),9). position(14,(6,8),10). position(14,(6,9),11). position(14,(6,9),12). position(14,(6,9),13). position(14,(6,9),14). position(14,(6,9),15). position(14,(6,9),16). position(14,(6,9),17). position(14,(6,9),18). position(14,(6,9),19). position(14,(6,9),20). position(14,(6,9),21). position(14,(6,9),22). position(14,(6,9),23). occurs(object(robot,14),action(move,(0,1)),1). occurs(object(robot,14),action(move,(0,1)),2). occurs(object(robot,14),action(move,(0,1)),3). occurs(object(robot,14),action(move,(0,1)),4). occurs(object(robot,14),action(move,(-1,0)),5). occurs(object(robot,14),action(move,(-1,0)),6). occurs(object(robot,14),action(move,(-1,0)),7). occurs(object(robot,14),action(move,(0,1)),10). occurs(object(robot,14),action(move,(0,1)),11). position(15,(12,11),0). position(15,(12,12),1). position(15,(12,13),2). position(15,(12,14),3). position(15,(11,14),4). position(15,(10,14),5). position(15,(9,14),6). position(15,(8,14),7). position(15,(7,14),8). position(15,(6,14),9). position(15,(6,14),10). position(15,(6,14),11). position(15,(6,14),12). position(15,(6,14),13). position(15,(6,14),14). position(15,(6,14),15). position(15,(6,14),16). position(15,(6,14),17). position(15,(6,14),18). position(15,(6,14),19). position(15,(6,14),20). position(15,(6,14),21). position(15,(6,15),22). occurs(object(robot,15),action(move,(0,1)),1). occurs(object(robot,15),action(move,(0,1)),2). occurs(object(robot,15),action(move,(0,1)),3). occurs(object(robot,15),action(move,(-1,0)),4). occurs(object(robot,15),action(move,(-1,0)),5). occurs(object(robot,15),action(move,(-1,0)),6). occurs(object(robot,15),action(move,(-1,0)),7). occurs(object(robot,15),action(move,(-1,0)),8). occurs(object(robot,15),action(move,(-1,0)),9). occurs(object(robot,15),action(move,(0,1)),22). position(16,(14,10),0). position(16,(15,10),1). position(16,(15,11),2). position(16,(15,11),3). position(16,(15,11),4). position(16,(15,11),5). position(16,(15,11),6). position(16,(15,11),7). position(16,(15,10),8). position(16,(15,10),9). position(16,(15,10),10). position(16,(15,10),11). position(16,(15,10),12). position(16,(15,10),13). position(16,(15,10),14). position(16,(15,10),15). position(16,(15,10),16). position(16,(15,10),17). position(16,(15,10),18). position(16,(15,10),19). position(16,(15,10),20). position(16,(15,10),21). position(16,(15,10),22). position(16,(15,9),23). occurs(object(robot,16),action(move,(1,0)),1). occurs(object(robot,16),action(move,(0,1)),2). occurs(object(robot,16),action(move,(0,-1)),8). occurs(object(robot,16),action(move,(0,-1)),23). position(17,(5,14),0). position(17,(5,13),1). position(17,(5,12),2). position(17,(5,11),3). position(17,(5,10),4). position(17,(4,10),5). position(17,(4,9),6). position(17,(4,9),7). position(17,(4,9),8). position(17,(4,9),9). position(17,(4,9),10). position(17,(4,9),11). position(17,(4,9),12). position(17,(4,9),13). position(17,(4,9),14). position(17,(4,9),15). position(17,(4,9),16). position(17,(4,9),17). position(17,(4,9),18). position(17,(4,9),19). position(17,(4,9),20). position(17,(4,9),21). position(17,(4,9),22). position(17,(4,10),23). occurs(object(robot,17),action(move,(0,-1)),1). occurs(object(robot,17),action(move,(0,-1)),2). occurs(object(robot,17),action(move,(0,-1)),3). occurs(object(robot,17),action(move,(0,-1)),4). occurs(object(robot,17),action(move,(-1,0)),5). occurs(object(robot,17),action(move,(0,-1)),6). occurs(object(robot,17),action(move,(0,1)),23). position(18,(13,2),0). position(18,(12,2),1). position(18,(11,2),2). position(18,(10,2),3). position(18,(10,3),4). position(18,(10,4),5). position(18,(10,5),6). position(18,(9,5),7). position(18,(8,5),8). position(18,(7,5),9). position(18,(6,5),10). position(18,(5,5),11). position(18,(4,5),12). position(18,(3,5),13). position(18,(2,5),14). position(18,(2,6),15). position(18,(2,7),16). position(18,(2,8),17). position(18,(2,9),18). position(18,(2,10),19). position(18,(2,11),20). position(18,(2,12),21). position(18,(2,12),22). position(18,(2,13),23). occurs(object(robot,18),action(move,(-1,0)),1). occurs(object(robot,18),action(move,(-1,0)),2). occurs(object(robot,18),action(move,(-1,0)),3). occurs(object(robot,18),action(move,(0,1)),4). occurs(object(robot,18),action(move,(0,1)),5). occurs(object(robot,18),action(move,(0,1)),6). occurs(object(robot,18),action(move,(-1,0)),7). occurs(object(robot,18),action(move,(-1,0)),8). occurs(object(robot,18),action(move,(-1,0)),9). occurs(object(robot,18),action(move,(-1,0)),10). occurs(object(robot,18),action(move,(-1,0)),11). occurs(object(robot,18),action(move,(-1,0)),12). occurs(object(robot,18),action(move,(-1,0)),13). occurs(object(robot,18),action(move,(-1,0)),14). occurs(object(robot,18),action(move,(0,1)),15). occurs(object(robot,18),action(move,(0,1)),16). occurs(object(robot,18),action(move,(0,1)),17). occurs(object(robot,18),action(move,(0,1)),18). occurs(object(robot,18),action(move,(0,1)),19). occurs(object(robot,18),action(move,(0,1)),20). occurs(object(robot,18),action(move,(0,1)),21). occurs(object(robot,18),action(move,(0,1)),23). position(19,(12,14),0). position(19,(13,14),1). position(19,(13,13),2). position(19,(13,12),3). position(19,(13,11),4). position(19,(13,10),5). position(19,(13,9),6). position(19,(13,8),7). position(19,(14,8),8). position(19,(15,8),9). position(19,(15,7),10). position(19,(15,7),11). position(19,(15,7),12). position(19,(15,7),13). position(19,(15,7),14). position(19,(14,7),15). position(19,(14,7),16). position(19,(14,7),17). position(19,(14,7),18). position(19,(14,7),19). position(19,(14,7),20). position(19,(14,7),21). position(19,(14,7),22). position(19,(14,7),23). occurs(object(robot,19),action(move,(1,0)),1). occurs(object(robot,19),action(move,(0,-1)),2). occurs(object(robot,19),action(move,(0,-1)),3). occurs(object(robot,19),action(move,(0,-1)),4). occurs(object(robot,19),action(move,(0,-1)),5). occurs(object(robot,19),action(move,(0,-1)),6). occurs(object(robot,19),action(move,(0,-1)),7). occurs(object(robot,19),action(move,(1,0)),8). occurs(object(robot,19),action(move,(1,0)),9). occurs(object(robot,19),action(move,(0,-1)),10). occurs(object(robot,19),action(move,(-1,0)),15). position(20,(1,12),0). position(20,(2,12),1). position(20,(3,12),2). position(20,(3,12),3). position(20,(4,12),4). position(20,(5,12),5). position(20,(6,12),6). position(20,(6,11),7). position(20,(7,11),8). position(20,(8,11),9). position(20,(9,11),10). position(20,(9,11),11). position(20,(10,11),12). position(20,(10,10),13). position(20,(11,10),14). position(20,(12,10),15). position(20,(13,10),16). position(20,(14,10),17). position(20,(14,10),18). position(20,(14,9),19). position(20,(14,8),20). position(20,(14,8),21). position(20,(15,8),22). position(20,(15,7),23). occurs(object(robot,20),action(move,(1,0)),1). occurs(object(robot,20),action(move,(1,0)),2). occurs(object(robot,20),action(move,(1,0)),4). occurs(object(robot,20),action(move,(1,0)),5). occurs(object(robot,20),action(move,(1,0)),6). occurs(object(robot,20),action(move,(0,-1)),7). occurs(object(robot,20),action(move,(1,0)),8). occurs(object(robot,20),action(move,(1,0)),9). occurs(object(robot,20),action(move,(1,0)),10). occurs(object(robot,20),action(move,(1,0)),12). occurs(object(robot,20),action(move,(0,-1)),13). occurs(object(robot,20),action(move,(1,0)),14). occurs(object(robot,20),action(move,(1,0)),15). occurs(object(robot,20),action(move,(1,0)),16). occurs(object(robot,20),action(move,(1,0)),17). occurs(object(robot,20),action(move,(0,-1)),19). occurs(object(robot,20),action(move,(0,-1)),20). occurs(object(robot,20),action(move,(1,0)),22). occurs(object(robot,20),action(move,(0,-1)),23). \n"
     ]
    }
   ],
   "source": [
    "print(plans)"
   ]
  },
  {
   "cell_type": "code",
   "execution_count": 15,
   "metadata": {},
   "outputs": [
    {
     "name": "stdout",
     "output_type": "stream",
     "text": [
      "3.916867971420288\n"
     ]
    }
   ],
   "source": [
    "print(sum(time))"
   ]
  },
  {
   "cell_type": "code",
   "execution_count": 16,
   "metadata": {},
   "outputs": [],
   "source": [
    "try:                                                            # delete temporary files\n",
    "    os.remove(dest1)\n",
    "    os.remove(dest2)\n",
    "    os.remove(dest3)\n",
    "except OSError as e:\n",
    "    print(\"Error: %s : %s\" % (dest1, e.strerror))\n",
    "    print(\"Error: %s : %s\" % (dest2, e.strerror))\n",
    "    print(\"Error: %s : %s\" % (dest3, e.strerror))"
   ]
  },
  {
   "cell_type": "code",
   "execution_count": null,
   "metadata": {},
   "outputs": [],
   "source": []
  },
  {
   "cell_type": "code",
   "execution_count": null,
   "metadata": {},
   "outputs": [],
   "source": []
  },
  {
   "cell_type": "code",
   "execution_count": null,
   "metadata": {},
   "outputs": [],
   "source": []
  },
  {
   "cell_type": "code",
   "execution_count": null,
   "metadata": {},
   "outputs": [],
   "source": []
  }
 ],
 "metadata": {
  "kernelspec": {
   "display_name": "Python 3 (ipykernel)",
   "language": "python",
   "name": "python3"
  },
  "language_info": {
   "codemirror_mode": {
    "name": "ipython",
    "version": 3
   },
   "file_extension": ".py",
   "mimetype": "text/x-python",
   "name": "python",
   "nbconvert_exporter": "python",
   "pygments_lexer": "ipython3",
   "version": "3.7.11"
  }
 },
 "nbformat": 4,
 "nbformat_minor": 4
}
