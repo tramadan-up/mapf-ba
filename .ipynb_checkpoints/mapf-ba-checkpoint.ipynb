{
 "cells": [
  {
   "cell_type": "code",
   "execution_count": null,
   "metadata": {},
   "outputs": [],
   "source": [
    "import clingo"
   ]
  },
  {
   "cell_type": "code",
   "execution_count": null,
   "metadata": {},
   "outputs": [],
   "source": [
    "def combine(encoding_path, benchmark_path, destination_path):\n",
    "    \n",
    "    combined_path = destination_path + \"/combined.lp\"\n",
    "    \n",
    "    encoding_file = open(encoding_path, \"r\")\n",
    "    encoding = encoding_file.read()\n",
    "    encoding_file.close()\n",
    "    \n",
    "    benchmark_file = open(benchmark_path, \"r\")\n",
    "    benchmark = benchmark_file.read()\n",
    "    benchmark_file.close()\n",
    "    \n",
    "    combined_file = open(combined_path, \"w\")\n",
    "    combined = combined_file.write(benchmark + encoding)\n",
    "    combined_file.close()"
   ]
  },
  {
   "cell_type": "code",
   "execution_count": null,
   "metadata": {},
   "outputs": [],
   "source": [
    "def solve(robot_id, destination_path, restrictions=[]):\n",
    "    \n",
    "    combined_path = destination_path + \"/combined.lp\"\n",
    "    combined_file = open(combined_path, \"r\")\n",
    "    combined = combined_file.read()\n",
    "    combined_file.close()\n",
    "    \n",
    "    rid = \"#const rid = {}.\".format(robot_id)\n",
    "\n",
    "    for i in range(1,100):\n",
    "        solution = \"\"\n",
    "        horizon = \"#const horizon = {}.\".format(i)\n",
    "        asp = horizon + \"\\n\" + rid + \"\\n\" + combined\n",
    "        if restrictions:\n",
    "            for i in restrictions:\n",
    "                if i:\n",
    "                    asp = asp + \"\\n\" + i\n",
    "            \n",
    "        ctl = clingo.Control()\n",
    "        ctl.add(\"base\", [], asp)\n",
    "        ctl.ground([(\"base\", [])])\n",
    "        with ctl.solve(yield_=True) as handle:\n",
    "            for m in handle: solution=(\"{} \".format(m))\n",
    "            handle.get()\n",
    "        solution = solution.replace(' ', '. ')\n",
    "        \n",
    "        if solution:\n",
    "            return solution\n",
    "            break"
   ]
  },
  {
   "cell_type": "code",
   "execution_count": null,
   "metadata": {},
   "outputs": [],
   "source": [
    "def collisions(robot_id, encoding_path, plan):\n",
    "    \n",
    "    encoding_file = open(encoding_path, \"r\")\n",
    "    encoding = encoding_file.read()\n",
    "    encoding_file.close()\n",
    "    \n",
    "    rid = \"#const rid = {}.\".format(robot_id)\n",
    "    asp = rid + \"\\n\" + plan + \"\\n\" + encoding\n",
    "    solution = \"\"\n",
    "    \n",
    "    ctl = clingo.Control()\n",
    "    ctl.add(\"base\", [], asp)\n",
    "    ctl.ground([(\"base\", [])])\n",
    "    with ctl.solve(yield_=True) as handle:\n",
    "        for m in handle: solution=(\"{} \".format(m))\n",
    "        handle.get()\n",
    "    if solution== \" \":\n",
    "        return\n",
    "    else:\n",
    "        solution = solution.replace(' ', '. ')\n",
    "        print(solution)\n",
    "        print(\"\\n\")\n",
    "        return solution"
   ]
  },
  {
   "cell_type": "code",
   "execution_count": null,
   "metadata": {},
   "outputs": [],
   "source": [
    "def plan(robots, destination, collision, restrictions=[]):\n",
    "    plans=[]\n",
    "    plan_=\"\"\n",
    "    actions = []\n",
    "    \n",
    "    if not actions:\n",
    "        for i in robots:\n",
    "            actions.append([])\n",
    "\n",
    "    for i in robots:\n",
    "        actions[i-1].append(solve(i, destination, restrictions))\n",
    "        if actions[i-1][0]:\n",
    "            plan_ = plan_ + actions[i-1][0]\n",
    "            \n",
    "    cur_rest = []\n",
    "    for i in robots:\n",
    "        restrictions=[]\n",
    "        cur_rest.append(collisions(i, collision, plan_))\n",
    "        while cur_rest[0]:\n",
    "            restrictions.append(cur_rest[-1])\n",
    "            cur_rest = []\n",
    "            plan_ = replan(robots, destination, collision, restrictions)\n",
    "            cur_rest.append(collisions(i, collision, plan_))\n",
    "        return plan_\n",
    "        #plans.append(plan_)\n",
    "    \n",
    "    return plans"
   ]
  },
  {
   "cell_type": "code",
   "execution_count": null,
   "metadata": {},
   "outputs": [],
   "source": [
    "def replan(robots, destination, collision, restrictions=[]):\n",
    "    plans=[]\n",
    "    plan_=\"\"\n",
    "    actions = []\n",
    "    \n",
    "    if not actions:\n",
    "        for i in robots:\n",
    "            actions.append([])\n",
    "\n",
    "    for i in robots:\n",
    "        actions[i-1].append(solve(i, destination, restrictions))\n",
    "        if actions[i-1][0]:\n",
    "            plan_ = plan_ + actions[i-1][0]\n",
    "    return plan_"
   ]
  },
  {
   "cell_type": "code",
   "execution_count": null,
   "metadata": {},
   "outputs": [],
   "source": [
    "def save_plans(plans, k=0):\n",
    "    if type(plans)==list:\n",
    "        for i in range(len(plans)):\n",
    "            if type(plans[i])==str:\n",
    "                with open(\"./python/solution_%d_%d.lp\" % (k,i), 'w') as f:\n",
    "                    f.write(plans[i])\n",
    "            else:\n",
    "                if type(plans[i])==list:\n",
    "                    k+=1\n",
    "                    save_plans(plans[i],k)\n",
    "    else:\n",
    "        if type(plans)==str:\n",
    "                with open(\"./python/solution_%d.lp\" % (k), 'w') as f:\n",
    "                    f.write(plans)"
   ]
  },
  {
   "cell_type": "code",
   "execution_count": null,
   "metadata": {},
   "outputs": [],
   "source": [
    "enc = \"./asprilo-encodings/shortest_path/pathfinder.lp\"\n",
    "ben = \"./instances/example4/instance.lp\"\n",
    "dest = \"./python\"\n",
    "col = \"./asprilo-encodings/collision/collision.lp\"\n",
    "robots = []\n",
    "for i in range(1,26):\n",
    "    robots.append(i)\n",
    "\n",
    "rest=[]    \n",
    "plans =[]"
   ]
  },
  {
   "cell_type": "code",
   "execution_count": null,
   "metadata": {},
   "outputs": [],
   "source": [
    "combine(enc, ben, dest)"
   ]
  },
  {
   "cell_type": "code",
   "execution_count": null,
   "metadata": {},
   "outputs": [],
   "source": [
    "plans=plan(robots, dest, col, rest)"
   ]
  },
  {
   "cell_type": "code",
   "execution_count": null,
   "metadata": {},
   "outputs": [],
   "source": [
    "save_plans(plans)"
   ]
  },
  {
   "cell_type": "code",
   "execution_count": null,
   "metadata": {},
   "outputs": [],
   "source": []
  },
  {
   "cell_type": "code",
   "execution_count": null,
   "metadata": {},
   "outputs": [],
   "source": []
  }
 ],
 "metadata": {
  "kernelspec": {
   "display_name": "Python 3",
   "language": "python",
   "name": "python3"
  },
  "language_info": {
   "codemirror_mode": {
    "name": "ipython",
    "version": 3
   },
   "file_extension": ".py",
   "mimetype": "text/x-python",
   "name": "python",
   "nbconvert_exporter": "python",
   "pygments_lexer": "ipython3",
   "version": "3.7.6"
  }
 },
 "nbformat": 4,
 "nbformat_minor": 4
}
