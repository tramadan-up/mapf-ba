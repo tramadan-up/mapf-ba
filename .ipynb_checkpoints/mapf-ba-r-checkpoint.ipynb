{
 "cells": [
  {
   "cell_type": "code",
   "execution_count": 1,
   "metadata": {},
   "outputs": [],
   "source": [
    "import clingo\n",
    "import re"
   ]
  },
  {
   "cell_type": "code",
   "execution_count": 2,
   "metadata": {},
   "outputs": [],
   "source": [
    "def combine(encoding_path, benchmark_path, destination_path):\n",
    "    \n",
    "    combined_path = destination_path + \"/combined.lp\"\n",
    "    \n",
    "    encoding_file = open(encoding_path, \"r\")\n",
    "    encoding = encoding_file.read()\n",
    "    encoding_file.close()\n",
    "    \n",
    "    benchmark_file = open(benchmark_path, \"r\")\n",
    "    benchmark = benchmark_file.read()\n",
    "    benchmark_file.close()\n",
    "    \n",
    "    combined_file = open(combined_path, \"w\")\n",
    "    combined = combined_file.write(benchmark + encoding)\n",
    "    combined_file.close()"
   ]
  },
  {
   "cell_type": "code",
   "execution_count": 3,
   "metadata": {},
   "outputs": [],
   "source": [
    "def save_plans(plans, k=0):\n",
    "    if type(plans)==list:\n",
    "        for i in range(len(plans)):\n",
    "            if type(plans[i])==str:\n",
    "                with open(\"./python/solution_%d_%d.lp\" % (k,i), 'w') as f:\n",
    "                    f.write(plans[i])\n",
    "            else:\n",
    "                if type(plans[i])==list:\n",
    "                    k+=1\n",
    "                    save_plans(plans[i],k)\n",
    "    else:\n",
    "        if type(plans)==str:\n",
    "                with open(\"./python/solution_%d.lp\" % (k), 'w') as f:\n",
    "                    f.write(plans)"
   ]
  },
  {
   "cell_type": "code",
   "execution_count": 4,
   "metadata": {},
   "outputs": [],
   "source": [
    "def solve(robot_id, destination_path, restrictions=[], fin=[]):\n",
    "    \"\"\"\n",
    "    if fin:\n",
    "        fin=sum(fin)\n",
    "    else:\n",
    "        fin=5\n",
    "    \"\"\"\n",
    "    combined_path = destination_path + \"/combined.lp\"\n",
    "    combined_file = open(combined_path, \"r\")\n",
    "    combined = combined_file.read()\n",
    "    combined_file.close()\n",
    "    \n",
    "    rid = \"#const rid = {}.\".format(robot_id)\n",
    "    #fin = \"#const fin = {}.\".format(fin)\n",
    "    fin=\"\"\n",
    "    for i in range(1,100):\n",
    "        solution = \"\"\n",
    "        horizon = \"#const horizon = {}.\".format(i)\n",
    "        asp = horizon + \"\\n\" + rid + \"\\n\" + fin + \"\\n\" + combined\n",
    "        if restrictions:\n",
    "            for j in restrictions:\n",
    "                if j:\n",
    "                    asp = asp + \"\\n\" + j\n",
    "            \n",
    "        ctl = clingo.Control()\n",
    "        ctl.add(\"base\", [], asp)\n",
    "        ctl.ground([(\"base\", [])])\n",
    "        with ctl.solve(yield_=True) as handle:\n",
    "            for m in handle: solution=(\"{} \".format(m))\n",
    "            handle.get()\n",
    "        solution = solution.replace(' ', '. ')\n",
    "        \n",
    "        if solution:\n",
    "            return solution, i\n",
    "            break"
   ]
  },
  {
   "cell_type": "code",
   "execution_count": 5,
   "metadata": {},
   "outputs": [],
   "source": [
    "def prep(robots, destination, restrictions=[]):\n",
    "    plans=[]\n",
    "    plan_=\"\"\n",
    "    paths = []\n",
    "    actions = []\n",
    "    \n",
    "    if not paths:\n",
    "        for i in robots:\n",
    "            paths.append([])\n",
    "\n",
    "    for i in robots:\n",
    "        temp = solve(i, destination, restrictions)\n",
    "        paths[i-1].append(temp[0])\n",
    "        actions.append(temp[1])\n",
    "        if paths[i-1][0]:\n",
    "            plan_ = plan_ + paths[i-1][0]\n",
    "    return paths, plan_, actions"
   ]
  },
  {
   "cell_type": "code",
   "execution_count": 6,
   "metadata": {},
   "outputs": [],
   "source": [
    "def collisions(robot_id, encoding_path, plan):\n",
    "    \n",
    "    encoding_file = open(encoding_path, \"r\")\n",
    "    encoding = encoding_file.read()\n",
    "    encoding_file.close()\n",
    "    \n",
    "    rid = \"#const rid = {}.\".format(robot_id)\n",
    "    asp = rid + \"\\n\" + plan + \"\\n\" + encoding\n",
    "    solution_ = \"\"\n",
    "    \n",
    "    ctl = clingo.Control()\n",
    "    ctl.add(\"base\", [], asp)\n",
    "    ctl.ground([(\"base\", [])])\n",
    "    with ctl.solve(yield_=True) as handle:\n",
    "        for m in handle: solution_=(\"{} \".format(m))\n",
    "        handle.get()\n",
    "    if solution_== \" \":\n",
    "        return\n",
    "    else:\n",
    "        solution_ = solution_.replace(' ', '. ')\n",
    "        #print(solution)\n",
    "        #print(\"\\n\")\n",
    "        return solution_"
   ]
  },
  {
   "cell_type": "code",
   "execution_count": 7,
   "metadata": {},
   "outputs": [],
   "source": [
    "def plan(robots, destination, collision, paths, plan_, actions, restrictions=[], actions_=[]):\n",
    "    if not actions_ or sum(actions_)==0:\n",
    "        actions_ = list(actions)\n",
    "    \n",
    "    max_value = max(actions_)\n",
    "    max_index = actions_.index(max_value)\n",
    "    cur_rest = []\n",
    "    cur_rest.append(collisions(actions_[max_index], collision, plan_))\n",
    "    actions_[max_index] = 0\n",
    "    fin=[min(actions)]\n",
    "    if cur_rest[0]:\n",
    "        restrictions.append(cur_rest[-1])\n",
    "        restrictions_ = \" \".join(cur_rest)\n",
    "        restricted_robots = []\n",
    "        restricted_robots =  re.findall('s\\((.+?),', restrictions_)\n",
    "        restricted_robots = list(map(int, restricted_robots))\n",
    "        restricted_robots = list(set(restricted_robots))\n",
    "        for i in restricted_robots:\n",
    "            temp = solve(i, destination, restrictions)\n",
    "            #temp = solve(i, destination, restrictions, fin)\n",
    "            paths[i-1] = [temp[0]]\n",
    "            actions[i-1] = temp[1]\n",
    "        plan_ = \"\"\n",
    "        for i in robots:\n",
    "            if paths[i-1][0]:\n",
    "                plan_ = plan_ + paths[i-1][0]\n",
    "        plan_ = plan(robots, destination, collision, paths, plan_, actions, restrictions, actions_)\n",
    "    \n",
    "    return plan_"
   ]
  },
  {
   "cell_type": "code",
   "execution_count": 8,
   "metadata": {},
   "outputs": [],
   "source": [
    "enc = \"./asprilo-encodings/shortest_path/pathfinder.lp\"\n",
    "ben = \"./instances/example4/instance.lp\"\n",
    "dest = \"./python\"\n",
    "col = \"./asprilo-encodings/collision/collision.lp\"\n",
    "robots = []\n",
    "for i in range(1,26):\n",
    "    robots.append(i)\n",
    "\n",
    "rest=[]\n",
    "sel=[]\n",
    "plans =[]\n",
    "\n",
    "\n",
    "combine(enc, ben, dest)"
   ]
  },
  {
   "cell_type": "code",
   "execution_count": 9,
   "metadata": {},
   "outputs": [],
   "source": [
    "paths, plan_, actions = prep(robots, dest, rest)"
   ]
  },
  {
   "cell_type": "code",
   "execution_count": null,
   "metadata": {},
   "outputs": [],
   "source": []
  },
  {
   "cell_type": "code",
   "execution_count": 10,
   "metadata": {},
   "outputs": [],
   "source": [
    "plans_=plan(robots, dest, col, paths, plan_, actions, rest, sel)\n"
   ]
  },
  {
   "cell_type": "code",
   "execution_count": 11,
   "metadata": {},
   "outputs": [],
   "source": [
    "save_plans(plans_)"
   ]
  },
  {
   "cell_type": "code",
   "execution_count": 12,
   "metadata": {},
   "outputs": [
    {
     "name": "stdout",
     "output_type": "stream",
     "text": [
      "position(1,(13,6),0). position(1,(13,5),1). position(1,(13,4),2). position(1,(13,3),3). position(1,(12,3),4). position(1,(11,3),5). position(1,(10,3),6). position(1,(9,3),7). position(1,(8,3),8). position(1,(7,3),9). position(1,(7,4),10). occurs(object(robot,1),action(move,(0,-1)),1). occurs(object(robot,1),action(move,(0,-1)),2). occurs(object(robot,1),action(move,(0,-1)),3). occurs(object(robot,1),action(move,(-1,0)),4). occurs(object(robot,1),action(move,(-1,0)),5). occurs(object(robot,1),action(move,(-1,0)),6). occurs(object(robot,1),action(move,(-1,0)),7). occurs(object(robot,1),action(move,(-1,0)),8). occurs(object(robot,1),action(move,(-1,0)),9). occurs(object(robot,1),action(move,(0,1)),10). position(2,(6,5),0). position(2,(6,5),1). position(2,(6,5),2). position(2,(7,5),3). position(2,(8,5),4). position(2,(8,6),5). position(2,(9,6),6). position(2,(10,6),7). position(2,(11,6),8). position(2,(12,6),9). position(2,(13,6),10). position(2,(14,6),11). position(2,(15,6),12). occurs(object(robot,2),action(move,(1,0)),3). occurs(object(robot,2),action(move,(1,0)),4). occurs(object(robot,2),action(move,(0,1)),5). occurs(object(robot,2),action(move,(1,0)),6). occurs(object(robot,2),action(move,(1,0)),7). occurs(object(robot,2),action(move,(1,0)),8). occurs(object(robot,2),action(move,(1,0)),9). occurs(object(robot,2),action(move,(1,0)),10). occurs(object(robot,2),action(move,(1,0)),11). occurs(object(robot,2),action(move,(1,0)),12). position(3,(15,7),0). position(3,(15,8),1). position(3,(15,9),2). position(3,(15,10),3). position(3,(14,10),4). position(3,(14,11),5). occurs(object(robot,3),action(move,(0,1)),1). occurs(object(robot,3),action(move,(0,1)),2). occurs(object(robot,3),action(move,(0,1)),3). occurs(object(robot,3),action(move,(-1,0)),4). occurs(object(robot,3),action(move,(0,1)),5). position(4,(1,14),0). position(4,(1,13),1). position(4,(1,12),2). position(4,(1,11),3). position(4,(2,11),4). position(4,(3,11),5). position(4,(4,11),6). position(4,(5,11),7). position(4,(6,11),8). position(4,(7,11),9). position(4,(7,10),10). position(4,(7,9),11). position(4,(8,9),12). position(4,(9,9),13). position(4,(9,8),14). occurs(object(robot,4),action(move,(0,-1)),1). occurs(object(robot,4),action(move,(0,-1)),2). occurs(object(robot,4),action(move,(0,-1)),3). occurs(object(robot,4),action(move,(1,0)),4). occurs(object(robot,4),action(move,(1,0)),5). occurs(object(robot,4),action(move,(1,0)),6). occurs(object(robot,4),action(move,(1,0)),7). occurs(object(robot,4),action(move,(1,0)),8). occurs(object(robot,4),action(move,(1,0)),9). occurs(object(robot,4),action(move,(0,-1)),10). occurs(object(robot,4),action(move,(0,-1)),11). occurs(object(robot,4),action(move,(1,0)),12). occurs(object(robot,4),action(move,(1,0)),13). occurs(object(robot,4),action(move,(0,-1)),14). position(5,(5,7),0). position(5,(6,7),1). position(5,(6,8),2). position(5,(7,8),3). position(5,(8,8),4). position(5,(8,8),5). position(5,(8,7),6). position(5,(8,6),7). position(5,(9,6),8). position(5,(10,6),9). position(5,(11,6),10). position(5,(12,6),11). position(5,(13,6),12). position(5,(14,6),13). position(5,(14,5),14). occurs(object(robot,5),action(move,(1,0)),1). occurs(object(robot,5),action(move,(0,1)),2). occurs(object(robot,5),action(move,(1,0)),3). occurs(object(robot,5),action(move,(1,0)),4). occurs(object(robot,5),action(move,(0,-1)),6). occurs(object(robot,5),action(move,(0,-1)),7). occurs(object(robot,5),action(move,(1,0)),8). occurs(object(robot,5),action(move,(1,0)),9). occurs(object(robot,5),action(move,(1,0)),10). occurs(object(robot,5),action(move,(1,0)),11). occurs(object(robot,5),action(move,(1,0)),12). occurs(object(robot,5),action(move,(1,0)),13). occurs(object(robot,5),action(move,(0,-1)),14). position(6,(11,10),0). position(6,(12,10),1). position(6,(13,10),2). position(6,(13,11),3). position(6,(14,11),4). position(6,(14,12),5). occurs(object(robot,6),action(move,(1,0)),1). occurs(object(robot,6),action(move,(1,0)),2). occurs(object(robot,6),action(move,(0,1)),3). occurs(object(robot,6),action(move,(1,0)),4). occurs(object(robot,6),action(move,(0,1)),5). position(7,(1,15),0). position(7,(1,14),1). position(7,(1,13),2). position(7,(2,13),3). position(7,(2,12),4). position(7,(3,12),5). position(7,(3,11),6). position(7,(3,10),7). position(7,(3,9),8). position(7,(3,8),9). occurs(object(robot,7),action(move,(0,-1)),1). occurs(object(robot,7),action(move,(0,-1)),2). occurs(object(robot,7),action(move,(1,0)),3). occurs(object(robot,7),action(move,(0,-1)),4). occurs(object(robot,7),action(move,(1,0)),5). occurs(object(robot,7),action(move,(0,-1)),6). occurs(object(robot,7),action(move,(0,-1)),7). occurs(object(robot,7),action(move,(0,-1)),8). occurs(object(robot,7),action(move,(0,-1)),9). position(8,(5,12),0). position(8,(5,11),1). position(8,(5,10),2). position(8,(5,9),3). position(8,(6,9),4). position(8,(6,9),5). position(8,(6,8),6). position(8,(7,8),7). position(8,(8,8),8). position(8,(8,7),9). position(8,(9,7),10). position(8,(10,7),11). position(8,(11,7),12). position(8,(11,6),13). position(8,(11,5),14). position(8,(11,4),15). position(8,(11,3),16). position(8,(11,2),17). position(8,(12,2),18). occurs(object(robot,8),action(move,(0,-1)),1). occurs(object(robot,8),action(move,(0,-1)),2). occurs(object(robot,8),action(move,(0,-1)),3). occurs(object(robot,8),action(move,(1,0)),4). occurs(object(robot,8),action(move,(0,-1)),6). occurs(object(robot,8),action(move,(1,0)),7). occurs(object(robot,8),action(move,(1,0)),8). occurs(object(robot,8),action(move,(0,-1)),9). occurs(object(robot,8),action(move,(1,0)),10). occurs(object(robot,8),action(move,(1,0)),11). occurs(object(robot,8),action(move,(1,0)),12). occurs(object(robot,8),action(move,(0,-1)),13). occurs(object(robot,8),action(move,(0,-1)),14). occurs(object(robot,8),action(move,(0,-1)),15). occurs(object(robot,8),action(move,(0,-1)),16). occurs(object(robot,8),action(move,(0,-1)),17). occurs(object(robot,8),action(move,(1,0)),18). position(9,(10,14),0). position(9,(9,14),1). position(9,(8,14),2). position(9,(8,13),3). position(9,(7,13),4). position(9,(7,12),5). position(9,(6,12),6). position(9,(5,12),7). position(9,(4,12),8). occurs(object(robot,9),action(move,(-1,0)),1). occurs(object(robot,9),action(move,(-1,0)),2). occurs(object(robot,9),action(move,(0,-1)),3). occurs(object(robot,9),action(move,(-1,0)),4). occurs(object(robot,9),action(move,(0,-1)),5). occurs(object(robot,9),action(move,(-1,0)),6). occurs(object(robot,9),action(move,(-1,0)),7). occurs(object(robot,9),action(move,(-1,0)),8). position(10,(1,2),0). position(10,(1,2),1). position(10,(2,2),2). position(10,(3,2),3). position(10,(4,2),4). position(10,(5,2),5). position(10,(6,2),6). position(10,(7,2),7). position(10,(8,2),8). position(10,(8,3),9). position(10,(8,4),10). position(10,(8,5),11). position(10,(8,6),12). position(10,(8,7),13). position(10,(8,8),14). position(10,(8,9),15). position(10,(9,9),16). position(10,(9,10),17). position(10,(9,11),18). position(10,(9,12),19). position(10,(10,12),20). position(10,(11,12),21). position(10,(12,12),22). position(10,(13,12),23). position(10,(13,13),24). position(10,(14,13),25). position(10,(14,14),26). occurs(object(robot,10),action(move,(1,0)),2). occurs(object(robot,10),action(move,(1,0)),3). occurs(object(robot,10),action(move,(1,0)),4). occurs(object(robot,10),action(move,(1,0)),5). occurs(object(robot,10),action(move,(1,0)),6). occurs(object(robot,10),action(move,(1,0)),7). occurs(object(robot,10),action(move,(1,0)),8). occurs(object(robot,10),action(move,(0,1)),9). occurs(object(robot,10),action(move,(0,1)),10). occurs(object(robot,10),action(move,(0,1)),11). occurs(object(robot,10),action(move,(0,1)),12). occurs(object(robot,10),action(move,(0,1)),13). occurs(object(robot,10),action(move,(0,1)),14). occurs(object(robot,10),action(move,(0,1)),15). occurs(object(robot,10),action(move,(1,0)),16). occurs(object(robot,10),action(move,(0,1)),17). occurs(object(robot,10),action(move,(0,1)),18). occurs(object(robot,10),action(move,(0,1)),19). occurs(object(robot,10),action(move,(1,0)),20). occurs(object(robot,10),action(move,(1,0)),21). occurs(object(robot,10),action(move,(1,0)),22). occurs(object(robot,10),action(move,(1,0)),23). occurs(object(robot,10),action(move,(0,1)),24). occurs(object(robot,10),action(move,(1,0)),25). occurs(object(robot,10),action(move,(0,1)),26). position(11,(2,10),0). position(11,(3,10),1). position(11,(4,10),2). position(11,(5,10),3). position(11,(6,10),4). position(11,(7,10),5). position(11,(7,10),6). position(11,(7,9),7). position(11,(8,9),8). position(11,(9,9),9). position(11,(10,9),10). position(11,(10,10),11). occurs(object(robot,11),action(move,(1,0)),1). occurs(object(robot,11),action(move,(1,0)),2). occurs(object(robot,11),action(move,(1,0)),3). occurs(object(robot,11),action(move,(1,0)),4). occurs(object(robot,11),action(move,(1,0)),5). occurs(object(robot,11),action(move,(0,-1)),7). occurs(object(robot,11),action(move,(1,0)),8). occurs(object(robot,11),action(move,(1,0)),9). occurs(object(robot,11),action(move,(1,0)),10). occurs(object(robot,11),action(move,(0,1)),11). position(12,(6,7),0). position(12,(6,8),1). position(12,(6,9),2). position(12,(7,9),3). position(12,(8,9),4). position(12,(9,9),5). position(12,(10,9),6). position(12,(11,9),7). position(12,(12,9),8). position(12,(13,9),9). position(12,(14,9),10). position(12,(14,8),11). occurs(object(robot,12),action(move,(0,1)),1). occurs(object(robot,12),action(move,(0,1)),2). occurs(object(robot,12),action(move,(1,0)),3). occurs(object(robot,12),action(move,(1,0)),4). occurs(object(robot,12),action(move,(1,0)),5). occurs(object(robot,12),action(move,(1,0)),6). occurs(object(robot,12),action(move,(1,0)),7). occurs(object(robot,12),action(move,(1,0)),8). occurs(object(robot,12),action(move,(1,0)),9). occurs(object(robot,12),action(move,(1,0)),10). occurs(object(robot,12),action(move,(0,-1)),11). position(13,(3,2),0). position(13,(3,3),1). position(13,(3,4),2). position(13,(3,5),3). position(13,(4,5),4). position(13,(4,6),5). position(13,(4,6),6). position(13,(4,6),7). position(13,(5,6),8). position(13,(6,6),9). position(13,(6,7),10). position(13,(6,8),11). position(13,(5,8),12). position(13,(5,9),13). position(13,(5,10),14). position(13,(5,11),15). position(13,(5,12),16). position(13,(5,13),17). position(13,(5,14),18). position(13,(4,14),19). occurs(object(robot,13),action(move,(0,1)),1). occurs(object(robot,13),action(move,(0,1)),2). occurs(object(robot,13),action(move,(0,1)),3). occurs(object(robot,13),action(move,(1,0)),4). occurs(object(robot,13),action(move,(0,1)),5). occurs(object(robot,13),action(move,(1,0)),8). occurs(object(robot,13),action(move,(1,0)),9). occurs(object(robot,13),action(move,(0,1)),10). occurs(object(robot,13),action(move,(0,1)),11). occurs(object(robot,13),action(move,(-1,0)),12). occurs(object(robot,13),action(move,(0,1)),13). occurs(object(robot,13),action(move,(0,1)),14). occurs(object(robot,13),action(move,(0,1)),15). occurs(object(robot,13),action(move,(0,1)),16). occurs(object(robot,13),action(move,(0,1)),17). occurs(object(robot,13),action(move,(0,1)),18). occurs(object(robot,13),action(move,(-1,0)),19). position(14,(12,10),0). position(14,(12,9),1). position(14,(12,8),2). position(14,(12,7),3). position(14,(12,6),4). position(14,(12,6),5). position(14,(12,5),6). position(14,(11,5),7). position(14,(11,4),8). position(14,(11,3),9). position(14,(11,2),10). position(14,(10,2),11). occurs(object(robot,14),action(move,(0,-1)),1). occurs(object(robot,14),action(move,(0,-1)),2). occurs(object(robot,14),action(move,(0,-1)),3). occurs(object(robot,14),action(move,(0,-1)),4). occurs(object(robot,14),action(move,(0,-1)),6). occurs(object(robot,14),action(move,(-1,0)),7). occurs(object(robot,14),action(move,(0,-1)),8). occurs(object(robot,14),action(move,(0,-1)),9). occurs(object(robot,14),action(move,(0,-1)),10). occurs(object(robot,14),action(move,(-1,0)),11). position(15,(3,1),0). position(15,(3,2),1). position(15,(3,3),2). position(15,(3,4),3). position(15,(3,5),4). position(15,(4,5),5). position(15,(4,5),6). position(15,(5,5),7). position(15,(5,5),8). position(15,(5,6),9). position(15,(6,6),10). position(15,(6,7),11). position(15,(6,8),12). position(15,(6,9),13). position(15,(6,10),14). occurs(object(robot,15),action(move,(0,1)),1). occurs(object(robot,15),action(move,(0,1)),2). occurs(object(robot,15),action(move,(0,1)),3). occurs(object(robot,15),action(move,(0,1)),4). occurs(object(robot,15),action(move,(1,0)),5). occurs(object(robot,15),action(move,(1,0)),7). occurs(object(robot,15),action(move,(0,1)),9). occurs(object(robot,15),action(move,(1,0)),10). occurs(object(robot,15),action(move,(0,1)),11). occurs(object(robot,15),action(move,(0,1)),12). occurs(object(robot,15),action(move,(0,1)),13). occurs(object(robot,15),action(move,(0,1)),14). position(16,(7,2),0). position(16,(6,2),1). position(16,(6,3),2). position(16,(6,3),3). position(16,(5,3),4). position(16,(4,3),5). position(16,(3,3),6). position(16,(3,4),7). position(16,(3,5),8). position(16,(4,5),9). position(16,(4,6),10). position(16,(4,7),11). occurs(object(robot,16),action(move,(-1,0)),1). occurs(object(robot,16),action(move,(0,1)),2). occurs(object(robot,16),action(move,(-1,0)),4). occurs(object(robot,16),action(move,(-1,0)),5). occurs(object(robot,16),action(move,(-1,0)),6). occurs(object(robot,16),action(move,(0,1)),7). occurs(object(robot,16),action(move,(0,1)),8). occurs(object(robot,16),action(move,(1,0)),9). occurs(object(robot,16),action(move,(0,1)),10). occurs(object(robot,16),action(move,(0,1)),11). position(17,(1,13),0). position(17,(1,12),1). position(17,(1,11),2). position(17,(2,11),3). position(17,(2,10),4). position(17,(2,10),5). position(17,(2,10),6). position(17,(2,10),7). position(17,(2,10),8). position(17,(2,10),9). position(17,(2,9),10). position(17,(2,8),11). position(17,(2,8),12). position(17,(2,7),13). position(17,(2,6),14). position(17,(2,5),15). position(17,(2,4),16). position(17,(1,4),17). occurs(object(robot,17),action(move,(0,-1)),1). occurs(object(robot,17),action(move,(0,-1)),2). occurs(object(robot,17),action(move,(1,0)),3). occurs(object(robot,17),action(move,(0,-1)),4). occurs(object(robot,17),action(move,(0,-1)),10). occurs(object(robot,17),action(move,(0,-1)),11). occurs(object(robot,17),action(move,(0,-1)),13). occurs(object(robot,17),action(move,(0,-1)),14). occurs(object(robot,17),action(move,(0,-1)),15). occurs(object(robot,17),action(move,(0,-1)),16). occurs(object(robot,17),action(move,(-1,0)),17). position(18,(6,12),0). position(18,(6,11),1). position(18,(6,10),2). position(18,(6,9),3). position(18,(6,8),4). position(18,(6,8),5). position(18,(7,8),6). position(18,(7,7),7). position(18,(7,6),8). occurs(object(robot,18),action(move,(0,-1)),1). occurs(object(robot,18),action(move,(0,-1)),2). occurs(object(robot,18),action(move,(0,-1)),3). occurs(object(robot,18),action(move,(0,-1)),4). occurs(object(robot,18),action(move,(1,0)),6). occurs(object(robot,18),action(move,(0,-1)),7). occurs(object(robot,18),action(move,(0,-1)),8). position(19,(9,6),0). position(19,(9,6),1). position(19,(9,6),2). position(19,(9,6),3). position(19,(8,6),4). position(19,(8,7),5). position(19,(7,7),6). position(19,(6,7),7). position(19,(5,7),8). occurs(object(robot,19),action(move,(-1,0)),4). occurs(object(robot,19),action(move,(0,1)),5). occurs(object(robot,19),action(move,(-1,0)),6). occurs(object(robot,19),action(move,(-1,0)),7). occurs(object(robot,19),action(move,(-1,0)),8). position(20,(7,5),0). position(20,(8,5),1). position(20,(9,5),2). position(20,(9,5),3). position(20,(9,6),4). position(20,(9,7),5). position(20,(10,7),6). position(20,(10,8),7). position(20,(11,8),8). position(20,(12,8),9). position(20,(12,8),10). position(20,(12,9),11). position(20,(12,10),12). position(20,(12,11),13). position(20,(12,12),14). position(20,(12,13),15). occurs(object(robot,20),action(move,(1,0)),1). occurs(object(robot,20),action(move,(1,0)),2). occurs(object(robot,20),action(move,(0,1)),4). occurs(object(robot,20),action(move,(0,1)),5). occurs(object(robot,20),action(move,(1,0)),6). occurs(object(robot,20),action(move,(0,1)),7). occurs(object(robot,20),action(move,(1,0)),8). occurs(object(robot,20),action(move,(1,0)),9). occurs(object(robot,20),action(move,(0,1)),11). occurs(object(robot,20),action(move,(0,1)),12). occurs(object(robot,20),action(move,(0,1)),13). occurs(object(robot,20),action(move,(0,1)),14). occurs(object(robot,20),action(move,(0,1)),15). position(21,(8,2),0). position(21,(8,1),1). position(21,(7,1),2). position(21,(6,1),3). position(21,(5,1),4). position(21,(4,1),5). position(21,(3,1),6). position(21,(2,1),7). position(21,(2,2),8). position(21,(2,3),9). position(21,(2,4),10). position(21,(2,4),11). position(21,(2,5),12). position(21,(1,5),13). position(21,(1,6),14). position(21,(1,7),15). position(21,(1,8),16). occurs(object(robot,21),action(move,(0,-1)),1). occurs(object(robot,21),action(move,(-1,0)),2). occurs(object(robot,21),action(move,(-1,0)),3). occurs(object(robot,21),action(move,(-1,0)),4). occurs(object(robot,21),action(move,(-1,0)),5). occurs(object(robot,21),action(move,(-1,0)),6). occurs(object(robot,21),action(move,(-1,0)),7). occurs(object(robot,21),action(move,(0,1)),8). occurs(object(robot,21),action(move,(0,1)),9). occurs(object(robot,21),action(move,(0,1)),10). occurs(object(robot,21),action(move,(0,1)),12). occurs(object(robot,21),action(move,(-1,0)),13). occurs(object(robot,21),action(move,(0,1)),14). occurs(object(robot,21),action(move,(0,1)),15). occurs(object(robot,21),action(move,(0,1)),16). position(22,(15,3),0). position(22,(14,3),1). position(22,(13,3),2). position(22,(12,3),3). position(22,(11,3),4). position(22,(10,3),5). position(22,(9,3),6). position(22,(9,4),7). position(22,(9,5),8). position(22,(8,5),9). position(22,(8,6),10). position(22,(8,7),11). position(22,(8,8),12). position(22,(7,8),13). position(22,(7,9),14). position(22,(7,10),15). position(22,(7,11),16). position(22,(7,12),17). position(22,(7,13),18). position(22,(6,13),19). position(22,(5,13),20). position(22,(4,13),21). position(22,(3,13),22). position(22,(3,14),23). occurs(object(robot,22),action(move,(-1,0)),1). occurs(object(robot,22),action(move,(-1,0)),2). occurs(object(robot,22),action(move,(-1,0)),3). occurs(object(robot,22),action(move,(-1,0)),4). occurs(object(robot,22),action(move,(-1,0)),5). occurs(object(robot,22),action(move,(-1,0)),6). occurs(object(robot,22),action(move,(0,1)),7). occurs(object(robot,22),action(move,(0,1)),8). occurs(object(robot,22),action(move,(-1,0)),9). occurs(object(robot,22),action(move,(0,1)),10). occurs(object(robot,22),action(move,(0,1)),11). occurs(object(robot,22),action(move,(0,1)),12). occurs(object(robot,22),action(move,(-1,0)),13). occurs(object(robot,22),action(move,(0,1)),14). occurs(object(robot,22),action(move,(0,1)),15). occurs(object(robot,22),action(move,(0,1)),16). occurs(object(robot,22),action(move,(0,1)),17). occurs(object(robot,22),action(move,(0,1)),18). occurs(object(robot,22),action(move,(-1,0)),19). occurs(object(robot,22),action(move,(-1,0)),20). occurs(object(robot,22),action(move,(-1,0)),21). occurs(object(robot,22),action(move,(-1,0)),22). occurs(object(robot,22),action(move,(0,1)),23). position(23,(10,6),0). position(23,(10,7),1). position(23,(10,8),2). position(23,(10,9),3). position(23,(9,9),4). position(23,(9,10),5). position(23,(8,10),6). occurs(object(robot,23),action(move,(0,1)),1). occurs(object(robot,23),action(move,(0,1)),2). occurs(object(robot,23),action(move,(0,1)),3). occurs(object(robot,23),action(move,(-1,0)),4). occurs(object(robot,23),action(move,(0,1)),5). occurs(object(robot,23),action(move,(-1,0)),6). position(24,(14,8),0). position(24,(13,8),1). position(24,(13,9),2). position(24,(13,10),3). occurs(object(robot,24),action(move,(-1,0)),1). occurs(object(robot,24),action(move,(0,1)),2). occurs(object(robot,24),action(move,(0,1)),3). position(25,(7,1),0). position(25,(7,1),1). position(25,(6,1),2). position(25,(5,1),3). position(25,(4,1),4). position(25,(3,1),5). position(25,(3,2),6). position(25,(3,3),7). position(25,(3,4),8). position(25,(3,5),9). position(25,(3,5),10). position(25,(3,5),11). position(25,(3,6),12). position(25,(3,7),13). occurs(object(robot,25),action(move,(-1,0)),2). occurs(object(robot,25),action(move,(-1,0)),3). occurs(object(robot,25),action(move,(-1,0)),4). occurs(object(robot,25),action(move,(-1,0)),5). occurs(object(robot,25),action(move,(0,1)),6). occurs(object(robot,25),action(move,(0,1)),7). occurs(object(robot,25),action(move,(0,1)),8). occurs(object(robot,25),action(move,(0,1)),9). occurs(object(robot,25),action(move,(0,1)),12). occurs(object(robot,25),action(move,(0,1)),13). \n"
     ]
    }
   ],
   "source": [
    "print(plans_)"
   ]
  },
  {
   "cell_type": "code",
   "execution_count": null,
   "metadata": {},
   "outputs": [],
   "source": []
  }
 ],
 "metadata": {
  "kernelspec": {
   "display_name": "Python 3",
   "language": "python",
   "name": "python3"
  },
  "language_info": {
   "codemirror_mode": {
    "name": "ipython",
    "version": 3
   },
   "file_extension": ".py",
   "mimetype": "text/x-python",
   "name": "python",
   "nbconvert_exporter": "python",
   "pygments_lexer": "ipython3",
   "version": "3.7.6"
  }
 },
 "nbformat": 4,
 "nbformat_minor": 4
}
